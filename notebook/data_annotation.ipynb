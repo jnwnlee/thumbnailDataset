{
 "cells": [
  {
   "cell_type": "code",
   "execution_count": 2,
   "id": "08f3049c",
   "metadata": {},
   "outputs": [
    {
     "data": {
      "application/vnd.jupyter.widget-view+json": {
       "model_id": "519f619335f14d96b10d430d40baaff2",
       "version_major": 2,
       "version_minor": 0
      },
      "text/plain": [
       "  0%|          | 0/15 [00:00<?, ?it/s]"
      ]
     },
     "metadata": {},
     "output_type": "display_data"
    }
   ],
   "source": [
    "import os\n",
    "from tqdm.notebook import tqdm\n",
    "# from PIL import Image\n",
    "import cv2\n",
    "\n",
    "def all_dirs(path):\n",
    "    paths = []\n",
    "    for dir in os.listdir(path):\n",
    "        if os.path.isdir(os.path.join(path, dir)):\n",
    "            paths.append(os.path.join(path, dir))\n",
    "\n",
    "    return paths\n",
    "\n",
    "def all_files(path, dst_path):\n",
    "#     sizes = []\n",
    "    for root, dirs, files in os.walk(path):\n",
    "        for file in files:\n",
    "            if os.path.isfile(os.path.join(path, file)):\n",
    "                try:\n",
    "#                     im = Image.open(os.path.join(path, file))\n",
    "                    im = cv2.imread(os.path.join(path, file))\n",
    "                except Exception as e:\n",
    "                    print(os.path.join(path, file))\n",
    "                    print(e)\n",
    "                    # remove fault files\n",
    "                    os.remove(os.path.join(path, file))\n",
    "                else:\n",
    "                    if im is None:\n",
    "                        print(os.path.join(path, file))\n",
    "                        print('Nonetype')\n",
    "                        # remove fault files\n",
    "                        os.remove(os.path.join(path, file))\n",
    "                        continue\n",
    "#                     sizes.append(int(max(im.shape)))\n",
    "                    resize_im = cv2.resize(im, (224,224), interpolation=cv2.INTER_LANCZOS4)\n",
    "                    cv2.imwrite(os.path.join(dst_path, file), resize_im)    \n",
    "\n",
    "    return # sizes    \n",
    "\n",
    "dataset_path = '/home/thumbnailDataset_test/'\n",
    "# dst_path = '/home/thumbnailDataset_test_resize/'\n",
    "# dict_num_files = {}\n",
    "# dict_file_sizes = {}\n",
    "\n",
    "for keyword_dir in tqdm(all_dirs(dataset_path)):\n",
    "#     n_files = {}\n",
    "#     file_sizes = {}\n",
    "    for site_dir in all_dirs(keyword_dir):\n",
    "        all_files(site_dir, site_dir.replace('thumbnailDataset_test', 'thumbnailDataset_test_resize'))\n",
    "#         n_files[site_dir.split('/')[-1]] = len(sizes_list)\n",
    "#         file_sizes[site_dir.split('/')[-1]] = sizes_list\n",
    "#     dict_num_files[keyword_dir.split('/')[-1]] = n_files\n",
    "#     dict_file_sizes[keyword_dir.split('/')[-1]] = file_sizes\n",
    "#     for k, v in file_sizes.items():\n",
    "#         dict_file_sizes[(keyword_dir.split('\\\\')[-1], k)] = v "
   ]
  },
  {
   "cell_type": "code",
   "execution_count": 10,
   "id": "ced72769",
   "metadata": {},
   "outputs": [
    {
     "data": {
      "application/vnd.jupyter.widget-view+json": {
       "model_id": "e5ef05a35f824e4ab4b367d98e0d7161",
       "version_major": 2,
       "version_minor": 0
      },
      "text/plain": [
       "  0%|          | 0/15 [00:00<?, ?it/s]"
      ]
     },
     "metadata": {},
     "output_type": "display_data"
    }
   ],
   "source": [
    "import os\n",
    "from tqdm.notebook import tqdm\n",
    "import csv\n",
    "\n",
    "dataset_path = '/home/thumbnailDataset_test_resize/'\n",
    "columns = ['filename', 'folder', 'car', 'chill', 'club', 'dance', 'gym', \n",
    "           'happy', 'night', 'party', 'relax', 'running', 'sad', 'sleep',\n",
    "           'summer', 'work', 'workout']\n",
    "class2idx = {cls: idx for idx, cls in enumerate(columns[2:])}\n",
    "\n",
    "f = open(\"../thumbnailDataset_test_resize.csv\", \"w\")\n",
    "writer = csv.writer(f)\n",
    "writer.writerow(columns)\n",
    "\n",
    "def all_dirs(path):\n",
    "    paths = []\n",
    "    for dir in os.listdir(path):\n",
    "        if os.path.isdir(os.path.join(path, dir)):\n",
    "            paths.append(os.path.join(path, dir))\n",
    "\n",
    "    return paths\n",
    "\n",
    "def all_files(path):\n",
    "    for root, dirs, files in os.walk(path):\n",
    "        for file in files:\n",
    "            row = []\n",
    "            if os.path.isfile(os.path.join(path, file)):\n",
    "                row.append(file)\n",
    "                row.append(path)\n",
    "                onehot = [0] * len(class2idx)\n",
    "                onehot[class2idx[path.split('/')[-2]]] = 1\n",
    "                row = row + onehot\n",
    "                writer.writerow(row)\n",
    "\n",
    "    return  \n",
    "\n",
    "\n",
    "dirs_list = all_dirs(dataset_path)\n",
    "dirs_list.sort()\n",
    "for keyword_dir in tqdm(dirs_list):\n",
    "    for site_dir in all_dirs(keyword_dir):\n",
    "        sizes_list = all_files(site_dir)"
   ]
  }
 ],
 "metadata": {
  "kernelspec": {
   "display_name": "Python 3 (ipykernel)",
   "language": "python",
   "name": "python3"
  },
  "language_info": {
   "codemirror_mode": {
    "name": "ipython",
    "version": 3
   },
   "file_extension": ".py",
   "mimetype": "text/x-python",
   "name": "python",
   "nbconvert_exporter": "python",
   "pygments_lexer": "ipython3",
   "version": "3.7.12"
  }
 },
 "nbformat": 4,
 "nbformat_minor": 5
}
